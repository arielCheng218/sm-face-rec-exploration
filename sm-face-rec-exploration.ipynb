{
 "cells": [
  {
   "cell_type": "markdown",
   "id": "5cd5536f",
   "metadata": {
    "papermill": {
     "duration": 0.003128,
     "end_time": "2023-04-18T18:57:30.350703",
     "exception": false,
     "start_time": "2023-04-18T18:57:30.347575",
     "status": "completed"
    },
    "tags": []
   },
   "source": [
    "# Approach 1 - Siamese Network\n",
    "The first approach I'm trying for this project is a Siamese network. Essentially, Siamese networks contain two networks and attempt to learn how similar, or \"close in distance\" two inputs are. The network in this case would output an integer between 0 and 1 - 1 for identical images, and 0 for completely different images. The network architecture is displayed below.\n",
    "\n",
    "![Image](https://miro.medium.com/v2/resize:fit:1400/1*LwOBbwGXMZUy6OzkFAPTzw.png)\n",
    "\n",
    "To do facial recognition, each face in a given input image will be identified, cropped and then fed through the network. It will be compared to all other faces in the dataset, and the result will be the known face with the highest score outputted.\n",
    "\n",
    "This method is not ideal for larger datasets. But since the St. Mark's faces database is relatively small, this shouldn't be too large of an issue in practice."
   ]
  },
  {
   "cell_type": "code",
   "execution_count": 1,
   "id": "26b0b09e",
   "metadata": {
    "_cell_guid": "b1076dfc-b9ad-4769-8c92-a6c4dae69d19",
    "_uuid": "8f2839f25d086af736a60e9eeb907d3b93b6e0e5",
    "execution": {
     "iopub.execute_input": "2023-04-18T18:57:30.356848Z",
     "iopub.status.busy": "2023-04-18T18:57:30.356413Z",
     "iopub.status.idle": "2023-04-18T18:57:30.362273Z",
     "shell.execute_reply": "2023-04-18T18:57:30.361087Z"
    },
    "papermill": {
     "duration": 0.012491,
     "end_time": "2023-04-18T18:57:30.365627",
     "exception": false,
     "start_time": "2023-04-18T18:57:30.353136",
     "status": "completed"
    },
    "tags": []
   },
   "outputs": [],
   "source": [
    "# https://nghiaho.com/?p=2789\n",
    "\n",
    "# Install libraries"
   ]
  },
  {
   "cell_type": "markdown",
   "id": "2f63b7b2",
   "metadata": {
    "papermill": {
     "duration": 0.00167,
     "end_time": "2023-04-18T18:57:30.369374",
     "exception": false,
     "start_time": "2023-04-18T18:57:30.367704",
     "status": "completed"
    },
    "tags": []
   },
   "source": [
    "# Approach 2 - K-Nearest Neighbors\n",
    "The KNN algorithm is an unsupervised learning algorithm that classifies a given input according to its Euclidean distance to other members of a particular class in vector space. The \"k\" closest neighbors are chosen, and the output of the algorithm is the majority class that these neighbors comprise of. Hyperparameter tuning can be done to optimize the value of k.\n",
    "\n",
    "An example of this algorithm is shown below.\n",
    "\n",
    "![Image](https://miro.medium.com/v2/resize:fit:405/0*rc5_e6-6AHzqppcr)\n",
    "\n",
    "In this example, k=3 and the input would be classified as \"green\" because 2 > 1. For the facial recognition project, the different classes will be the names of different people.\n",
    "\n",
    "Before using this algorithm, it's a good idea to make the amount of data for each class equal by using data augmentation techniques (if there are many pictures of one person, the algorithm might be skewed as they might always have more votes)."
   ]
  },
  {
   "cell_type": "markdown",
   "id": "2654a1c8",
   "metadata": {
    "papermill": {
     "duration": 0.001541,
     "end_time": "2023-04-18T18:57:30.372742",
     "exception": false,
     "start_time": "2023-04-18T18:57:30.371201",
     "status": "completed"
    },
    "tags": []
   },
   "source": [
    "# Approach 3 - Convolutional Neural Networks\n",
    "CNNs are a type of artificial neural network that uses the convolution operation in one of its layers. To use CNNs for a classification problem, the different classes (in this case, faces) will be associated with one neuron each on the final layer. So, for example, if the dataset of faces consisted of {Alice, Bob, Eve} the final layer would have three neurons, one associated with each person. The class associated with the neuron that has the largest activation will be outputted.\n",
    "\n",
    "The issue with this algorithm is that the network has to be retrained every year because the labels and final layer of the network will be different (new people will enter St. Mark's, some faculty members or students will leave/graduate). I'll have to write an extra script if I choose this method.\n",
    "\n",
    "CNNs also need a lot of data to classify input accurately, so I'll probably have to apply some data augmentation techniques before training."
   ]
  }
 ],
 "metadata": {
  "kernelspec": {
   "display_name": "Python 3",
   "language": "python",
   "name": "python3"
  },
  "language_info": {
   "codemirror_mode": {
    "name": "ipython",
    "version": 3
   },
   "file_extension": ".py",
   "mimetype": "text/x-python",
   "name": "python",
   "nbconvert_exporter": "python",
   "pygments_lexer": "ipython3",
   "version": "3.7.12"
  },
  "papermill": {
   "default_parameters": {},
   "duration": 12.705864,
   "end_time": "2023-04-18T18:57:31.098085",
   "environment_variables": {},
   "exception": null,
   "input_path": "__notebook__.ipynb",
   "output_path": "__notebook__.ipynb",
   "parameters": {},
   "start_time": "2023-04-18T18:57:18.392221",
   "version": "2.4.0"
  }
 },
 "nbformat": 4,
 "nbformat_minor": 5
}
